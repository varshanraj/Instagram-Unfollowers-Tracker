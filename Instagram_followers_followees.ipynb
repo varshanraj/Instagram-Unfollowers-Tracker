{
  "nbformat": 4,
  "nbformat_minor": 0,
  "metadata": {
    "colab": {
      "provenance": []
    },
    "kernelspec": {
      "name": "python3",
      "display_name": "Python 3"
    },
    "language_info": {
      "name": "python"
    }
  },
  "cells": [
    {
      "cell_type": "code",
      "execution_count": null,
      "metadata": {
        "colab": {
          "base_uri": "https://localhost:8080/"
        },
        "id": "I3kq3ZVdATHO",
        "outputId": "f2d2cdfa-cb7e-4f6e-b92d-e54df4255c7e"
      },
      "outputs": [
        {
          "output_type": "stream",
          "name": "stdout",
          "text": [
            "Collecting instaloader\n",
            "  Downloading instaloader-4.13.2.tar.gz (65 kB)\n",
            "\u001b[?25l     \u001b[90m━━━━━━━━━━━━━━━━━━━━━━━━━━━━━━━━━━━━━━━━\u001b[0m \u001b[32m0.0/65.2 kB\u001b[0m \u001b[31m?\u001b[0m eta \u001b[36m-:--:--\u001b[0m\r\u001b[2K     \u001b[91m━━━━━━━━━━━━━━━━━━━━━━━━━━━━━━━━━━━━━\u001b[0m\u001b[91m╸\u001b[0m\u001b[90m━━\u001b[0m \u001b[32m61.4/65.2 kB\u001b[0m \u001b[31m3.3 MB/s\u001b[0m eta \u001b[36m0:00:01\u001b[0m\r\u001b[2K     \u001b[90m━━━━━━━━━━━━━━━━━━━━━━━━━━━━━━━━━━━━━━━━\u001b[0m \u001b[32m65.2/65.2 kB\u001b[0m \u001b[31m1.5 MB/s\u001b[0m eta \u001b[36m0:00:00\u001b[0m\n",
            "\u001b[?25h  Preparing metadata (setup.py) ... \u001b[?25l\u001b[?25hdone\n",
            "Requirement already satisfied: requests>=2.4 in /usr/local/lib/python3.10/dist-packages (from instaloader) (2.32.3)\n",
            "Requirement already satisfied: charset-normalizer<4,>=2 in /usr/local/lib/python3.10/dist-packages (from requests>=2.4->instaloader) (3.4.0)\n",
            "Requirement already satisfied: idna<4,>=2.5 in /usr/local/lib/python3.10/dist-packages (from requests>=2.4->instaloader) (3.10)\n",
            "Requirement already satisfied: urllib3<3,>=1.21.1 in /usr/local/lib/python3.10/dist-packages (from requests>=2.4->instaloader) (2.2.3)\n",
            "Requirement already satisfied: certifi>=2017.4.17 in /usr/local/lib/python3.10/dist-packages (from requests>=2.4->instaloader) (2024.8.30)\n",
            "Building wheels for collected packages: instaloader\n",
            "  Building wheel for instaloader (setup.py) ... \u001b[?25l\u001b[?25hdone\n",
            "  Created wheel for instaloader: filename=instaloader-4.13.2-py3-none-any.whl size=67324 sha256=62bed26a344c0fc878e319927f4f48b58905a2e4ac3282551e923c02a49d0ab2\n",
            "  Stored in directory: /root/.cache/pip/wheels/28/58/77/22970d6e07a2e97576e2d645e111b2c095a0acba6386356803\n",
            "Successfully built instaloader\n",
            "Installing collected packages: instaloader\n",
            "Successfully installed instaloader-4.13.2\n"
          ]
        }
      ],
      "source": [
        "!pip install instaloader"
      ]
    },
    {
      "cell_type": "code",
      "source": [
        "import instaloader\n",
        "\n",
        "# Create an instance of Instaloader\n",
        "L = instaloader.Instaloader()\n",
        "\n",
        "# Provide your username and password\n",
        "USERNAME = 'YOUR_INSTA_USERNAME'  # Replace with your Instagram username\n",
        "PASSWORD = 'YOUR_INSTA_PASSWORD'  # Replace with your Instagram password\n",
        "\n",
        "# Login and save session to a file\n",
        "L.login(USERNAME, PASSWORD)\n",
        "L.save_session_to_file()\n",
        "print(\"Session saved successfully!\")\n"
      ],
      "metadata": {
        "colab": {
          "base_uri": "https://localhost:8080/"
        },
        "id": "4BgbYFz7BS5b",
        "outputId": "4849e0ee-356a-44d4-daf0-bcb11c03e8a9"
      },
      "execution_count": null,
      "outputs": [
        {
          "output_type": "stream",
          "name": "stdout",
          "text": [
            "Saved session to /root/.config/instaloader/session-__v.a.r.s.h.a.n.__.\n",
            "Session saved successfully!\n"
          ]
        }
      ]
    },
    {
      "cell_type": "code",
      "source": [
        "# Install Instaloader library\n",
        "!pip install instaloader\n",
        "\n",
        "import instaloader\n",
        "\n",
        "# Replace with your Instagram username and password\n",
        "USERNAME = 'YOUR_INSTA_USERNAME'  # Replace with your Instagram username\n",
        "PASSWORD = 'YOUR_INSTA_PASSWORD'  # Replace with your Instagram password\n",
        "\n",
        "# Initialize Instaloader instance\n",
        "L = instaloader.Instaloader()\n",
        "\n",
        "# Try logging in and handling common login issues\n",
        "try:\n",
        "    # Login to Instagram and save session\n",
        "    L.login(USERNAME, PASSWORD)\n",
        "    L.save_session_to_file()\n",
        "    print(\"Logged in and session saved successfully!\")\n",
        "\n",
        "except instaloader.exceptions.TwoFactorAuthRequiredException:\n",
        "    print(\"Two-factor authentication required. Please verify manually.\")\n",
        "\n",
        "except instaloader.exceptions.ConnectionException as e:\n",
        "    print(f\"Connection error: {e}\")\n",
        "\n",
        "except instaloader.exceptions.BadCredentialsException:\n",
        "    print(\"Invalid credentials. Please check your username and password.\")\n",
        "\n",
        "except instaloader.exceptions.LoginRequiredException:\n",
        "    print(\"Login required! Please resolve any security issues manually.\")\n",
        "\n",
        "except instaloader.exceptions.LoginException as e:\n",
        "    print(f\"Login error: {e}\")\n",
        "\n",
        "# Load the saved session file and access profile\n",
        "try:\n",
        "    L.load_session_from_file(USERNAME)\n",
        "    print(\"Logged in using the saved session file.\")\n",
        "\n",
        "    # Get your Instagram profile\n",
        "    profile = instaloader.Profile.from_username(L.context, USERNAME)\n",
        "\n",
        "    # Fetch followers and followees\n",
        "    followers = set([follower.username for follower in profile.get_followers()])\n",
        "    followees = set([followee.username for followee in profile.get_followees()])\n",
        "\n",
        "    # Calculate users who do not follow back\n",
        "    not_following_back = followees - followers\n",
        "\n",
        "    # Display the list of users not following you back\n",
        "    print(\"\\nPeople not following you back:\")\n",
        "    for user in not_following_back:\n",
        "        print(user)\n",
        "\n",
        "except Exception as e:\n",
        "    print(f\"Error loading session or fetching profile: {e}\")\n"
      ],
      "metadata": {
        "colab": {
          "base_uri": "https://localhost:8080/"
        },
        "id": "RerjswYgAcg6",
        "outputId": "53990b5b-632a-43d4-91f9-b483822b672e"
      },
      "execution_count": null,
      "outputs": [
        {
          "output_type": "stream",
          "name": "stdout",
          "text": [
            "Requirement already satisfied: instaloader in /usr/local/lib/python3.10/dist-packages (4.13.2)\n",
            "Requirement already satisfied: requests>=2.4 in /usr/local/lib/python3.10/dist-packages (from instaloader) (2.32.3)\n",
            "Requirement already satisfied: charset-normalizer<4,>=2 in /usr/local/lib/python3.10/dist-packages (from requests>=2.4->instaloader) (3.4.0)\n",
            "Requirement already satisfied: idna<4,>=2.5 in /usr/local/lib/python3.10/dist-packages (from requests>=2.4->instaloader) (3.10)\n",
            "Requirement already satisfied: urllib3<3,>=1.21.1 in /usr/local/lib/python3.10/dist-packages (from requests>=2.4->instaloader) (2.2.3)\n",
            "Requirement already satisfied: certifi>=2017.4.17 in /usr/local/lib/python3.10/dist-packages (from requests>=2.4->instaloader) (2024.8.30)\n",
            "Saved session to /root/.config/instaloader/session-__v.a.r.s.h.a.n.__.\n",
            "Logged in and session saved successfully!\n",
            "Loaded session from /root/.config/instaloader/session-__v.a.r.s.h.a.n.__.\n",
            "Logged in using the saved session file.\n"
          ]
        },
        {
          "output_type": "stream",
          "name": "stderr",
          "text": [
            "JSON Query to graphql/query: 401 Unauthorized - \"fail\" status, message \"Please wait a few minutes before you try again.\" when accessing https://www.instagram.com/graphql/query?query_hash=37479f2b8209594dde7facb0d904896a&variables=%7B%22id%22%3A%2211364008489%22%2C%22first%22%3A12%2C%22after%22%3A%22QVFEVS1HZDFHbnpFOGI2VHdpd3hSWXlyb1EzLV90amY2eVoxa1BsdzlFYVUzMkc5ZVpEWW50QlJHMzhtWWFaN0JOUGJyZjRka21PWG5rMS1raWY0cTlIdA%3D%3D%22%7D [retrying; skip with ^C]\n",
            "JSON Query to graphql/query: 401 Unauthorized - \"fail\" status, message \"Please wait a few minutes before you try again.\" when accessing https://www.instagram.com/graphql/query?query_hash=37479f2b8209594dde7facb0d904896a&variables=%7B%22id%22%3A%2211364008489%22%2C%22first%22%3A12%2C%22after%22%3A%22QVFEVS1HZDFHbnpFOGI2VHdpd3hSWXlyb1EzLV90amY2eVoxa1BsdzlFYVUzMkc5ZVpEWW50QlJHMzhtWWFaN0JOUGJyZjRka21PWG5rMS1raWY0cTlIdA%3D%3D%22%7D [retrying; skip with ^C]\n"
          ]
        },
        {
          "output_type": "stream",
          "name": "stdout",
          "text": [
            "Error loading session or fetching profile: JSON Query to graphql/query: 401 Unauthorized - \"fail\" status, message \"Please wait a few minutes before you try again.\" when accessing https://www.instagram.com/graphql/query?query_hash=37479f2b8209594dde7facb0d904896a&variables=%7B%22id%22%3A%2211364008489%22%2C%22first%22%3A12%2C%22after%22%3A%22QVFEVS1HZDFHbnpFOGI2VHdpd3hSWXlyb1EzLV90amY2eVoxa1BsdzlFYVUzMkc5ZVpEWW50QlJHMzhtWWFaN0JOUGJyZjRka21PWG5rMS1raWY0cTlIdA%3D%3D%22%7D\n"
          ]
        }
      ]
    },
    {
      "cell_type": "code",
      "source": [],
      "metadata": {
        "id": "LRPpoZqOB3Fq"
      },
      "execution_count": null,
      "outputs": []
    }
  ]
}